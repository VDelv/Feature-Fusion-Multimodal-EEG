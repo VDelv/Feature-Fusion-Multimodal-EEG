{
 "cells": [
  {
   "cell_type": "raw",
   "id": "d7341ffe-4a16-4ffa-90ca-5a87c717c5ef",
   "metadata": {},
   "source": [
    "Created by Victor Delvigne\n",
    "ISIA Lab, Faculty of Engineering University of Mons, Mons (Belgium)\n",
    "victor.delvigne@umons.ac.be\n",
    "Copyright (C) 2021 - UMons\n",
    "This library is free software; you can redistribute it and/or\n",
    "modify it under the terms of the GNU Lesser General Public\n",
    "License as published by the Free Software Foundation; either\n",
    "version 2.1 of the License, or (at your option) any later version.\n",
    "This library is distributed in the hope that it will be useful,\n",
    "but WITHOUT ANY WARRANTY; without even the implied warranty of\n",
    "MERCHANTABILITY or FITNESS FOR A PARTICULAR PURPOSE.  See the GNU\n",
    "Lesser General Public License for more details.\n",
    "You should have received a copy of the GNU Lesser General Public\n",
    "License along with this library; if not, write to the Free Software\n",
    "Foundation, Inc., 51 Franklin Street, Fifth Floor, Boston, MA  02110-1301  USA"
   ]
  },
  {
   "cell_type": "code",
   "execution_count": 1,
   "id": "published-boulder",
   "metadata": {},
   "outputs": [],
   "source": [
    "import glob\n",
    "import os\n",
    "import numpy as np\n",
    "import scipy.io as sio\n",
    "\n",
    "from tqdm import tqdm\n",
    "from utils import *"
   ]
  },
  {
   "cell_type": "markdown",
   "id": "smooth-oliver",
   "metadata": {},
   "source": [
    "## DEAP"
   ]
  },
  {
   "cell_type": "code",
   "execution_count": 2,
   "id": "criminal-panic",
   "metadata": {},
   "outputs": [],
   "source": [
    "Lab = np.zeros((0, 4))\n",
    "Participant = np.zeros(0)"
   ]
  },
  {
   "cell_type": "code",
   "execution_count": 3,
   "id": "american-private",
   "metadata": {},
   "outputs": [],
   "source": [
    "# path to change /!\\\n",
    "\n",
    "Dataset_path = '/media/storage/Dataset/Deap/EEG'\n",
    "\n",
    "# path to change /!\\"
   ]
  },
  {
   "cell_type": "code",
   "execution_count": 4,
   "id": "front-input",
   "metadata": {},
   "outputs": [
    {
     "name": "stderr",
     "output_type": "stream",
     "text": [
      "100%|██████████| 32/32 [13:46<00:00, 25.82s/it]\n"
     ]
    }
   ],
   "source": [
    "Feat = []\n",
    "for f in tqdm(glob.glob(os.path.join(Dataset_path, '*.mat'))):\n",
    "    participant_id = int(f.split('.')[0].split('/')[-1][1:])\n",
    "    sig = sio.loadmat(f)\n",
    "    Feat.append(feat_matrices(sig['data']).swapaxes(0,2).reshape(5, 40, -1))\n",
    "    l = np.tile(sig['labels'], 16).reshape(-1, 4)\n",
    "    Lab = np.concatenate((Lab, l))\n",
    "    Participant = np.concatenate((Participant, participant_id*np.ones(l.shape[0])))\n",
    "Feat = np.concatenate(Feat, -1)\n",
    "#Normalize EEG\n",
    "Feat[:, :32] = (Feat[:, :32] - Feat[:, :32].min())/np.max(Feat[:, :32] - Feat[:, :32].min())\n",
    "#Normalize EMG\n",
    "Feat[:, 32:34] = (Feat[:, 32:34] - Feat[:, 32:34].min())/np.max(Feat[:, 32:34] - Feat[:, 32:34].min()) \n",
    "Feat[:, 34:36] = (Feat[:, 34:36] - Feat[:, 34:36].min())/np.max(Feat[:, 34:36] - Feat[:, 34:36].min())\n",
    "for i in range(36, 40):\n",
    "    Feat[:, i] = (Feat[:, i] - Feat[:, i].min())/np.max(Feat[:, i] - Feat[:, i].min())    "
   ]
  },
  {
   "cell_type": "code",
   "execution_count": 5,
   "id": "living-worst",
   "metadata": {},
   "outputs": [],
   "source": [
    "np.save('dataset/deap/feat_eeg', Feat.swapaxes(2, 0).swapaxes(1,2)[:, :, :32])\n",
    "np.save('dataset/deap/feat_phy', Feat.swapaxes(2, 0).swapaxes(1,2)[:, :, 32:])\n",
    "np.save('dataset/deap/label', Lab)\n",
    "np.save('dataset/deap/participant', Participant.astype(int))"
   ]
  },
  {
   "cell_type": "markdown",
   "id": "amended-irrigation",
   "metadata": {},
   "source": [
    "## SEED - IV"
   ]
  },
  {
   "cell_type": "code",
   "execution_count": 15,
   "id": "changed-death",
   "metadata": {},
   "outputs": [],
   "source": [
    "Lab = np.zeros(0)\n",
    "Participant = np.zeros(0)\n",
    "Session = np.zeros(0)"
   ]
  },
  {
   "cell_type": "code",
   "execution_count": 16,
   "id": "compatible-spending",
   "metadata": {},
   "outputs": [],
   "source": [
    "Dataset_lab = [\n",
    "    [1, 2, 3, 0, 2, 0, 0, 1, 0, 1, 2, 1, 1, 1, 2, 3, 2, 2, 3, 3, 0, 3, 0, 3],\n",
    "    [2, 1, 3, 0, 0, 2, 0, 2, 3, 3, 2, 3, 2, 0, 1, 1, 2, 1, 0, 3, 0, 1, 3, 1],\n",
    "    [1, 2, 2, 1, 3, 3, 3, 1, 1, 2, 1, 0, 2, 3, 3, 0, 2, 3, 0, 0, 2, 0, 1, 0]]"
   ]
  },
  {
   "cell_type": "code",
   "execution_count": 17,
   "id": "charming-prescription",
   "metadata": {},
   "outputs": [],
   "source": [
    "# path to change /!\\\n",
    "\n",
    "Dataset_path = '/media/storage/Dataset/Seed - IV/'\n",
    "\n",
    "# path to change /!\\"
   ]
  },
  {
   "cell_type": "code",
   "execution_count": 20,
   "id": "demonstrated-victorian",
   "metadata": {},
   "outputs": [
    {
     "name": "stderr",
     "output_type": "stream",
     "text": [
      "100%|██████████| 15/15 [00:04<00:00,  3.25it/s]\n",
      "100%|██████████| 15/15 [00:09<00:00,  1.55it/s]\n",
      "100%|██████████| 15/15 [00:16<00:00,  1.10s/it]\n"
     ]
    }
   ],
   "source": [
    "eeg_feat = np.zeros((62, 0, 5))\n",
    "eye_feat = np.zeros((31, 0))\n",
    "eye_raw = np.zeros((6, 0))\n",
    "for session in range(3):\n",
    "    lab = Dataset_lab[session]\n",
    "    session += 1\n",
    "    \n",
    "    participant_files = glob.glob(os.path.join(Dataset_path, 'eeg_feature_smooth', str(session),  '*.mat'))\n",
    "    \n",
    "    for f in tqdm(participant_files):\n",
    "        participant_id = int(f.split('/')[-1].split('_')[0])\n",
    "        eeg = sio.loadmat(f)\n",
    "        eye = sio.loadmat(os.path.join(Dataset_path, 'eye_feature_smooth', str(session), f.split('/')[-1]))\n",
    "        \n",
    "        for trial in range(len(lab)):\n",
    "            eeg_feat = np.concatenate((eeg_feat, eeg['de_LDS'+str(trial+1)]), axis=1)\n",
    "            eye_feat = np.concatenate((eye_feat, eye['eye_'+str(trial+1)]), axis=1)\n",
    "            \n",
    "            Lab = np.concatenate((Lab, lab[trial]*np.ones((eye['eye_'+str(trial+1)].shape[1]))))\n",
    "            Participant = np.concatenate((Participant, participant_id*np.ones((eye['eye_'+str(trial+1)].shape[1]))))\n",
    "            Session = np.concatenate((Session, (trial+1)*np.ones((eye['eye_'+str(trial+1)].shape[1]))))\n",
    "            eye_r = []\n",
    "            for f_ in glob.glob(os.path.join(Dataset_path, 'eye_raw_data', f.split('/')[-1].split('.')[0]+'*.mat')):\n",
    "                eye_ = sio.loadmat(f_)\n",
    "                for k in eye_.keys():\n",
    "                    if '__' not in k:\n",
    "                        eye_r.append(eye_[k].squeeze())            \n",
    "\n",
    "            eye_raw = np.concatenate((eye_raw, ))"
   ]
  },
  {
   "cell_type": "code",
   "execution_count": 21,
   "id": "convertible-narrative",
   "metadata": {},
   "outputs": [],
   "source": [
    "np.save('dataset/seed_iv/feat_eeg', eeg_feat.swapaxes(0,1).swapaxes(1,2))\n",
    "np.save('dataset/seed_iv/feat_phy', eye_feat.swapaxes(0,1))\n",
    "np.save('dataset/seed_iv/label', Lab.astype(int))\n",
    "np.save('dataset/seed_iv/participant', Participant.astype(int))"
   ]
  },
  {
   "cell_type": "markdown",
   "id": "duplicate-microphone",
   "metadata": {},
   "source": [
    "## SEED - VIG"
   ]
  },
  {
   "cell_type": "code",
   "execution_count": null,
   "id": "computational-graphics",
   "metadata": {},
   "outputs": [],
   "source": [
    "Lab = np.zeros(0)\n",
    "Participant = np.zeros(0)"
   ]
  },
  {
   "cell_type": "code",
   "execution_count": null,
   "id": "included-concept",
   "metadata": {},
   "outputs": [],
   "source": [
    "# path to change /!\\\n",
    "\n",
    "Dataset_path = '/media/storage/Dataset/SEED-VIG/'\n",
    "\n",
    "# path to change /!\\"
   ]
  },
  {
   "cell_type": "code",
   "execution_count": null,
   "id": "champion-animation",
   "metadata": {},
   "outputs": [],
   "source": [
    "eeg_feat = np.zeros((17, 0, 5))\n",
    "eye_feat = np.zeros((36, 0))\n",
    "\n",
    "participant_files = glob.glob(os.path.join(Dataset_path, 'EEG_Feature_5Bands', '*.mat'))\n",
    "\n",
    "participant_id = 1\n",
    "for f in tqdm(participant_files):\n",
    "    \n",
    "    eeg = sio.loadmat(f)\n",
    "    eye = sio.loadmat(os.path.join(Dataset_path, 'EOG_Feature', f.split('/')[-1]))\n",
    "    perclos = sio.loadmat(os.path.join(Dataset_path, 'perclos_labels', f.split('/')[-1]))['perclos'].squeeze()\n",
    "\n",
    "    eeg_feat = np.concatenate((eeg_feat, eeg['de_LDS']), axis=1)\n",
    "    eye_feat = np.concatenate((eye_feat, eye['features_table_ica'].swapaxes(0,1)), axis=1)\n",
    "\n",
    "    Lab = np.concatenate((Lab, perclos))\n",
    "    Participant = np.concatenate((Participant, participant_id*np.ones((perclos.shape[0]))))\n",
    "    participant_id += 1"
   ]
  },
  {
   "cell_type": "code",
   "execution_count": null,
   "id": "emerging-extent",
   "metadata": {},
   "outputs": [],
   "source": [
    "np.save('dataset/seed_vig/feat_eeg', eeg_feat.swapaxes(0,1).swapaxes(1,2))\n",
    "np.save('dataset/seed_vig/feat_phy', eye_feat.swapaxes(0,1))\n",
    "np.save('dataset/seed_vig/label', Lab)\n",
    "np.save('dataset/seed_vig/participant', Participant.astype(int))"
   ]
  }
 ],
 "metadata": {
  "kernelspec": {
   "display_name": "Python 3 (ipykernel)",
   "language": "python",
   "name": "python3"
  },
  "language_info": {
   "codemirror_mode": {
    "name": "ipython",
    "version": 3
   },
   "file_extension": ".py",
   "mimetype": "text/x-python",
   "name": "python",
   "nbconvert_exporter": "python",
   "pygments_lexer": "ipython3",
   "version": "3.8.13"
  }
 },
 "nbformat": 4,
 "nbformat_minor": 5
}
