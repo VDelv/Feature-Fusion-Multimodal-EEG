{
 "cells": [
  {
   "cell_type": "raw",
   "id": "7717d2fe-303c-4d06-bd23-c79ba85fa541",
   "metadata": {},
   "source": [
    "Created by Victor Delvigne\n",
    "ISIA Lab, Faculty of Engineering University of Mons, Mons (Belgium)\n",
    "victor.delvigne@umons.ac.be\n",
    "Copyright (C) 2021 - UMons\n",
    "This library is free software; you can redistribute it and/or\n",
    "modify it under the terms of the GNU Lesser General Public\n",
    "License as published by the Free Software Foundation; either\n",
    "version 2.1 of the License, or (at your option) any later version.\n",
    "This library is distributed in the hope that it will be useful,\n",
    "but WITHOUT ANY WARRANTY; without even the implied warranty of\n",
    "MERCHANTABILITY or FITNESS FOR A PARTICULAR PURPOSE.  See the GNU\n",
    "Lesser General Public License for more details.\n",
    "You should have received a copy of the GNU Lesser General Public\n",
    "License along with this library; if not, write to the Free Software\n",
    "Foundation, Inc., 51 Franklin Street, Fifth Floor, Boston, MA  02110-1301  USA"
   ]
  },
  {
   "cell_type": "markdown",
   "id": "tropical-colorado",
   "metadata": {},
   "source": [
    "# Naïve fusion"
   ]
  },
  {
   "cell_type": "code",
   "execution_count": null,
   "id": "smooth-montgomery",
   "metadata": {},
   "outputs": [],
   "source": [
    "from models import *\n",
    "from utils import *"
   ]
  },
  {
   "cell_type": "code",
   "execution_count": null,
   "id": "tropical-technical",
   "metadata": {},
   "outputs": [],
   "source": [
    "class MultiFusion(nn.Module):\n",
    "    def __init__(self, eeg_dim, eeg_emb_dim,pos, phy_dim, phy_emb_dim, phy_feat_dim, eeg_feat_dim=5, n_class=2):\n",
    "        super(MultiFusion, self ).__init__()\n",
    "        \n",
    "        self.eeg_attention = RegionRNN_DEAP(eeg_emb_dim//2, 1, eeg_feat_dim, f_dim=eeg_feat_dim)\n",
    "        self.phy_attention = SimpleRNN_DEAP(phy_emb_dim, 1, phy_feat_dim, f_dim=phy_feat_dim)\n",
    "        \n",
    "        self.Classifier = nn.Sequential(\n",
    "            nn.Linear(eeg_emb_dim, 64),\n",
    "            nn.Dropout(0.25),\n",
    "            nn.ReLU(True),\n",
    "            nn.Linear(64, n_class),\n",
    "            nn.Softmax(dim=1)\n",
    "            )\n",
    "        \n",
    "        self.Regressor = nn.Sequential(\n",
    "            nn.Linear(eeg_emb_dim, 64),\n",
    "            nn.Dropout(0.25),\n",
    "            nn.ReLU(True),\n",
    "            nn.Linear(64, 1)\n",
    "            )\n",
    "        \n",
    "        self.Discriminator = nn.Sequential(\n",
    "            GradientReversal(),\n",
    "            nn.Linear(eeg_emb_dim, 64),\n",
    "            nn.Dropout(0.25),\n",
    "            nn.ReLU(True),\n",
    "            nn.Linear(64, 1),\n",
    "            nn.Sigmoid()\n",
    "            )\n",
    "        \n",
    "    def forward(self, x_eeg, x_phy):\n",
    "        b_size = x_eeg.shape[0]\n",
    "        \n",
    "        spatial_eeg = x_eeg.transpose(1,2)\n",
    "        feat_eeg = self.eeg_attention(spatial_eeg)\n",
    "        \n",
    "        spatial_phy = x_phy.transpose(1,2)\n",
    "        feat_phy = self.phy_attention(spatial_phy)\n",
    "        feat = feat_eeg*feat_phy\n",
    "                \n",
    "        return feat\n",
    "\n",
    "class CatFusion(nn.Module):\n",
    "    def __init__(self, eeg_dim, eeg_emb_dim,pos, phy_dim, phy_emb_dim, phy_feat_dim, eeg_feat_dim=5, n_class=2):\n",
    "                \n",
    "        self.eeg_attention = RegionRNN_DEAP(eeg_emb_dim//2, 1, eeg_feat_dim, f_dim=eeg_feat_dim)\n",
    "        \n",
    "        self.phy_attention = nn.Sequential(\n",
    "                    Flatten(),\n",
    "                    nn.Linear(5*8, 64),\n",
    "                    nn.BatchNorm1d(64),\n",
    "                    nn.ReLU(True),\n",
    "                    nn.Linear(64 ,phy_emb_dim),\n",
    "                    nn.BatchNorm1d(phy_emb_dim),\n",
    "                    nn.ReLU(True)\n",
    "                    )\n",
    "        self.Classifier = nn.Sequential(\n",
    "            nn.Linear(eeg_emb_dim+phy_emb_dim, 64),\n",
    "            nn.BatchNorm1d(64),\n",
    "            nn.Dropout(0.25),\n",
    "            nn.ReLU(True),\n",
    "            nn.Linear(64, n_class),\n",
    "            nn.Softmax(dim=1)\n",
    "            )\n",
    "        \n",
    "        self.Regressor = nn.Sequential(\n",
    "            nn.Linear(eeg_emb_dim+phy_emb_dim, 64),\n",
    "            nn.Dropout(0.25),\n",
    "            nn.ReLU(True),\n",
    "            nn.Linear(64, 1)\n",
    "            )\n",
    "        \n",
    "        self.Discriminator = nn.Sequential(\n",
    "            GradientReversal(),\n",
    "            nn.Linear(eeg_emb_dim+phy_emb_dim, 64),\n",
    "            nn.Dropout(0.25),\n",
    "            nn.ReLU(True),\n",
    "            nn.Linear(64, 1),\n",
    "            nn.Sigmoid()\n",
    "            )\n",
    "        \n",
    "        \n",
    "    def forward(self, x_eeg, x_phy):\n",
    "        b_size = x_eeg.shape[0]\n",
    "        \n",
    "        spatial_eeg = x_eeg.transpose(1,2)\n",
    "        feat_eeg = self.eeg_attention(spatial_eeg)\n",
    "        \n",
    "        spatial_phy = x_phy.transpose(1,2)\n",
    "        feat_phy = self.phy_attention(spatial_phy)\n",
    "        feat = torch.cat([feat_eeg,feat_phy], axis=1)\n",
    "                \n",
    "        return feat\n",
    "\n",
    "class BilFusion(nn.Module):\n",
    "    def __init__(self, eeg_dim, eeg_emb_dim,pos, phy_dim, phy_emb_dim, phy_feat_dim, eeg_feat_dim=5, n_class=2):\n",
    "        super(BilFusion, self ).__init__()\n",
    "        \n",
    "        self.eeg_attention = RegionRNN_DEAP(eeg_emb_dim//2, 1, eeg_feat_dim, f_dim=eeg_feat_dim)   \n",
    "        \n",
    "        self.phy_attention = nn.Sequential(\n",
    "                    Flatten(),\n",
    "                    nn.Linear(5*8, 64),\n",
    "                    nn.BatchNorm1d(64),\n",
    "                    nn.ReLU(True),\n",
    "                    nn.Linear(64 ,phy_emb_dim),\n",
    "                    nn.BatchNorm1d(phy_emb_dim),\n",
    "                    nn.ReLU(True)\n",
    "                    )\n",
    "        if torch.cuda.is_available():\n",
    "            self.mcb = CompactBilinearPooling(eeg_emb_dim, phy_emb_dim, eeg_emb_dim+phy_emb_dim).cuda()\n",
    "        else :\n",
    "            self.mcb = CompactBilinearPooling(eeg_emb_dim, phy_emb_dim, eeg_emb_dim+phy_emb_dim)\n",
    "\n",
    "        self.Classifier = nn.Sequential(\n",
    "            nn.Linear(eeg_emb_dim+phy_emb_dim, 64),\n",
    "            nn.Dropout(0.25),\n",
    "            nn.ReLU(True),\n",
    "            nn.Linear(64, n_class),\n",
    "            nn.Softmax(dim=1)\n",
    "            )\n",
    "        \n",
    "        self.Regressor = nn.Sequential(\n",
    "            nn.Linear(eeg_emb_dim+phy_emb_dim, 64),\n",
    "            nn.Dropout(0.25),\n",
    "            nn.ReLU(True),\n",
    "            nn.Linear(64, 1)\n",
    "            )\n",
    "        \n",
    "        self.Discriminator = nn.Sequential(\n",
    "            GradientReversal(),\n",
    "            nn.Linear(eeg_emb_dim+phy_emb_dim, 64),\n",
    "            nn.Dropout(0.25),\n",
    "            nn.ReLU(True),\n",
    "            nn.Linear(64, 1),\n",
    "            nn.Sigmoid()\n",
    "            )\n",
    "        \n",
    "    def forward(self, x_eeg, x_phy):\n",
    "        b_size = x_eeg.shape[0]\n",
    "        \n",
    "        spatial_eeg = x_eeg.transpose(1,2)\n",
    "        feat_eeg = self.eeg_attention(spatial_eeg)\n",
    "        \n",
    "        spatial_phy = x_phy.transpose(1,2)\n",
    "        feat_phy = self.phy_attention(spatial_phy)\n",
    "        \n",
    "        feat = self.mcb(feat_eeg, feat_phy)\n",
    "                \n",
    "        return feat"
   ]
  },
  {
   "cell_type": "code",
   "execution_count": null,
   "id": "composed-design",
   "metadata": {},
   "outputs": [],
   "source": [
    "'''Parameters'''\n",
    "batch_size = 64\n",
    "n_epoch = 1000"
   ]
  },
  {
   "cell_type": "code",
   "execution_count": null,
   "id": "signal-sucking",
   "metadata": {},
   "outputs": [],
   "source": [
    "def train_model(feat_eeg, feat_phy, label, participant, path_results, training_info, n_class, pos, fusion):\n",
    "    EEG = EEGPhiDataset(label=label, eeg=feat_eeg, phi=feat_phy)\n",
    "    Tot = {}\n",
    "    session = np.load('dataset/seed_iv/session.npy')\n",
    "    for p in tqdm(np.unique(participant)):\n",
    "        idx = np.argwhere(participant==p).squeeze()\n",
    "        np.random.shuffle(idx)\n",
    "        id_train = idx[:int(0.8*len(idx))]\n",
    "        id_test = idx[int(0.8*len(idx)):]\n",
    "        \n",
    "        np.random.shuffle(id_train)\n",
    "        np.random.shuffle(id_test)\n",
    "        Test = Subset(EEG, id_test)\n",
    "        Train = Subset(EEG, id_train)\n",
    "        \n",
    "        Trainloader = DataLoader(Train, batch_size=batch_size, shuffle=False, pin_memory=False)\n",
    "        Testloader = DataLoader(Test, batch_size=batch_size, shuffle=False, pin_memory=False)\n",
    "        \n",
    "        n_chan = feat_eeg.shape[2]\n",
    "        f_dim_eeg = feat_eeg.shape[1]\n",
    "        \n",
    "        phy_dim = feat_phy.shape[2]\n",
    "        f_dim_phy = feat_phy.shape[1]\n",
    "        \n",
    "        if fusion == 'cat':\n",
    "            net = CatFusion(eeg_dim=n_chan, eeg_emb_dim=64, eeg_feat_dim=f_dim_eeg, pos=pos, phy_dim=phy_dim, phy_emb_dim=16, phy_feat_dim=f_dim_phy, n_class=n_class).cuda()\n",
    "        elif fusion == 'mult':\n",
    "            net = MultiFusion(eeg_dim=n_chan, eeg_emb_dim=64, eeg_feat_dim=f_dim_eeg, pos=pos, phy_dim=phy_dim, phy_emb_dim=64, phy_feat_dim=f_dim_phy, n_class=n_class).cuda()\n",
    "        elif fusion == 'bil':\n",
    "            net = BilFusion(eeg_dim=n_chan, eeg_emb_dim=64, eeg_feat_dim=f_dim_eeg, pos=pos, phy_dim=phy_dim, phy_emb_dim=16, phy_feat_dim=f_dim_phy, n_class=n_class).cuda()\n",
    "        \n",
    "        optimizer = optim.SGD(net.parameters(), lr=0.0005, momentum=0.9, weight_decay=0.005)\n",
    "        \n",
    "        writer = SummaryWriter('runs/rnn_'+fusion+'_p_'+str(p))\n",
    "        \n",
    "        res = []\n",
    "        for epoch in range(n_epoch):\n",
    "            \n",
    "            running_loss = 0.0\n",
    "            evaluation = []\n",
    "            t_cycle = iter(cycle(Testloader))\n",
    "            for i, data in enumerate(Trainloader, 0):\n",
    "                # get the inputs; data is a list of [inputs, labels]\n",
    "                inputs_eeg_source, inputs_phy_source, labels = data\n",
    "                del data\n",
    "                \n",
    "                data = next(t_cycle)\n",
    "                inputs_eeg_test, inputs_phy_test, _ = data\n",
    "                del data\n",
    "                \n",
    "                domain = torch.cat([torch.ones(inputs_eeg_source.shape[0]),\n",
    "                                   torch.zeros(inputs_eeg_test.shape[0])]).cuda()\n",
    "                inputs_eeg = torch.cat([inputs_eeg_source, inputs_eeg_test])\n",
    "                inputs_phy = torch.cat([inputs_phy_source, inputs_phy_test])\n",
    "                \n",
    "                # zero the parameter gradients\n",
    "                optimizer.zero_grad()\n",
    "                # forward + backward + optimize\n",
    "                \n",
    "                feat_ = net(inputs_eeg.to(torch.float32).cuda(), inputs_phy.to(torch.float32).cuda())\n",
    "                \n",
    "                domain_pred = net.Discriminator(feat_).squeeze()\n",
    "                \n",
    "                loss = torch.nn.functional.binary_cross_entropy(domain_pred, domain)\n",
    "                outputs = net.Classifier(feat_[:inputs_eeg_source.shape[0]])\n",
    "\n",
    "                label_loss = torch.nn.functional.cross_entropy(outputs, labels.to(torch.long).cuda())\n",
    "                loss += label_loss\n",
    "                loss.backward()\n",
    "                optimizer.step()\n",
    "\n",
    "                _, predicted = torch.max(outputs, 1)\n",
    "                num_of_true = torch.sum(predicted.detach().cpu()==labels).numpy()\n",
    "                mean = num_of_true/labels.shape[0]\n",
    "                running_loss = label_loss.item()\n",
    "                evaluation.append(mean)\n",
    "            running_loss = running_loss/(i+1)\n",
    "            running_acc = sum(evaluation)/len(evaluation)\n",
    "            \n",
    "            validation_loss = 0.0\n",
    "            validation_acc = 0.0\n",
    "            evaluation = []\n",
    "            for i, data in enumerate(Testloader, 0):\n",
    "                inputs_eeg, inputs_phy, labels = data\n",
    "                del data\n",
    "                feat_ = net(inputs_eeg.to(torch.float32).cuda(), inputs_phy.to(torch.float32).cuda())\n",
    "                outputs = net.Classifier(feat_)\n",
    "                loss = torch.nn.functional.cross_entropy(outputs, labels.cuda())\n",
    "                validation_loss += loss.item()\n",
    "                \n",
    "                _, predicted = torch.max(outputs, 1)\n",
    "                num_of_true = torch.sum(predicted.detach().cpu()==labels).numpy()\n",
    "                evaluation.append(num_of_true/labels.shape[0])\n",
    "            validation_loss = validation_loss/(i+1)\n",
    "            validation_acc = sum(evaluation)/len(evaluation)\n",
    "            \n",
    "            writer.add_scalar('Loss/Train', running_loss, epoch)\n",
    "            writer.add_scalar('Loss/Test', validation_loss, epoch)\n",
    "            writer.add_scalar('Acc/Train', running_acc, epoch)\n",
    "            writer.add_scalar('Acc/Test', validation_acc, epoch)\n",
    "            \n",
    "            res.append((running_loss, running_acc, validation_loss, validation_acc))\n",
    "        Tot['participant_'+str(p)] = np.asarray(res)\n",
    "        np.save(os.path.join(path_results, training_info), Tot)"
   ]
  },
  {
   "cell_type": "markdown",
   "id": "competitive-nebraska",
   "metadata": {},
   "source": [
    "## PhyDAA Dataset"
   ]
  },
  {
   "cell_type": "code",
   "execution_count": null,
   "id": "a59a3513-b72c-4d36-a5a6-3fa11db5d162",
   "metadata": {},
   "outputs": [],
   "source": [
    "'''Load File'''\n",
    "label = np.load('dataset/phydaa/label.npy').astype(int)\n",
    "n_class = len(np.unique(label))\n",
    "participant = np.load('dataset/phydaa/participant.npy')\n",
    "elec_pos = np.load('information/phydaa_eeg.npy')"
   ]
  },
  {
   "cell_type": "markdown",
   "id": "parliamentary-rings",
   "metadata": {},
   "source": [
    "### Multiplication"
   ]
  },
  {
   "cell_type": "code",
   "execution_count": null,
   "id": "034131d9-1ac1-4d2f-8566-3ea1f12ce7d4",
   "metadata": {},
   "outputs": [],
   "source": [
    "train_model(feat_eeg=np.load('dataset/phydaa/feat_eeg.npy'), feat_phy=np.expand_dims(np.load('dataset/phydaa/feat_phy.npy'),1), label=label, \n",
    "            participant=participant, path_results='res/ind/', training_info='phydaa_mult', n_class=n_class, pos=elec_pos, fusion='mult')"
   ]
  },
  {
   "cell_type": "markdown",
   "id": "complimentary-silver",
   "metadata": {},
   "source": [
    "### Concatenation"
   ]
  },
  {
   "cell_type": "code",
   "execution_count": null,
   "id": "5bcc072b-621a-4d1b-8bc7-f45fd670a735",
   "metadata": {},
   "outputs": [],
   "source": [
    "train_model(feat_eeg=np.load('dataset/phydaa/feat_eeg.npy'), feat_phy=np.expand_dims(np.load('dataset/phydaa/feat_phy.npy'),1), label=label, \n",
    "            participant=participant, path_results='res/ind/', training_info='phydaa_cat', n_class=n_class, pos=elec_pos, fusion='cat')"
   ]
  },
  {
   "cell_type": "markdown",
   "id": "consistent-press",
   "metadata": {},
   "source": [
    "### Compact Bilinear Pooling"
   ]
  },
  {
   "cell_type": "code",
   "execution_count": null,
   "id": "0b7e6ddd-1919-435f-820b-06b9903bedd4",
   "metadata": {},
   "outputs": [],
   "source": [
    "train_model(feat_eeg=np.load('dataset/phydaa/feat_eeg.npy'), feat_phy=np.expand_dims(np.load('dataset/phydaa/feat_phy.npy'),1), label=label, \n",
    "            participant=participant, path_results='res/ind/', training_info='phydaa_bil', n_class=n_class, pos=elec_pos, fusion='bil')"
   ]
  },
  {
   "cell_type": "markdown",
   "id": "primary-exposure",
   "metadata": {},
   "source": [
    "## SEED IV"
   ]
  },
  {
   "cell_type": "code",
   "execution_count": null,
   "id": "2858640d-fa47-4a76-bf0b-f1fe0ba58f6c",
   "metadata": {},
   "outputs": [],
   "source": [
    "'''Load File'''\n",
    "label = np.load('dataset/seed_iv/label.npy').astype(int)\n",
    "n_class = len(np.unique(label))\n",
    "participant = np.load('dataset/seed_iv/participant.npy')\n",
    "elec_pos = np.load('information/seed_iv_eeg.npy')"
   ]
  },
  {
   "cell_type": "markdown",
   "id": "beginning-constraint",
   "metadata": {},
   "source": [
    "### Multiplication"
   ]
  },
  {
   "cell_type": "code",
   "execution_count": null,
   "id": "28ceaa59-ca69-43d3-bf8a-6f6811941ff3",
   "metadata": {},
   "outputs": [],
   "source": [
    "train_model(feat_eeg=np.load('dataset/seed_iv/feat_eeg.npy'), feat_phy=np.expand_dims(np.load('dataset/seed_iv/feat_phy.npy'),1), label=label, \n",
    "            participant=participant, path_results='res/dep/', training_info='seed_iv_mult', n_class=n_class, pos=elec_pos, fusion='mult')"
   ]
  },
  {
   "cell_type": "markdown",
   "id": "committed-imagination",
   "metadata": {},
   "source": [
    "### Concatenation'''\n",
    "        "
   ]
  },
  {
   "cell_type": "code",
   "execution_count": null,
   "id": "c7ed402b-2291-478b-ad08-254a6102f8e3",
   "metadata": {},
   "outputs": [],
   "source": [
    "phy_feat = np.load('dataset/seed_iv/feat_phy.npy')\n",
    "phy_feat[:, :12] = (phy_feat[:, :12] - phy_feat[:, :12].min())/np.max(phy_feat[:, :12] - phy_feat[:, :12].min()) \n",
    "phy_feat[:, 12:16] = (phy_feat[:, 12:16] - phy_feat[:, 12:16].min())/np.max(phy_feat[:, 12:16] - phy_feat[:, 12:16].min()) \n",
    "phy_feat[:, 16:18] = (phy_feat[:, 16:18] - phy_feat[:, 16:18].min())/np.max(phy_feat[:, 16:18] - phy_feat[:, 16:18].min()) \n",
    "phy_feat[:, 18:22] = (phy_feat[:, 18:22] - phy_feat[:, 18:22].min())/np.max(phy_feat[:, 18:22] - phy_feat[:, 18:22].min())\n",
    "\n",
    "train_model(feat_eeg=np.load('dataset/seed_iv/feat_eeg.npy'), feat_phy=np.expand_dims(phy_feat,1)[:, :, :22], label=label, \n",
    "            participant=participant, path_results='res/dep/', training_info='seed_iv_cat_rnn', n_class=n_class, pos=elec_pos, fusion='cat')"
   ]
  },
  {
   "cell_type": "markdown",
   "id": "received-brain",
   "metadata": {},
   "source": [
    "### Compact Bilinear Pooling"
   ]
  },
  {
   "cell_type": "code",
   "execution_count": null,
   "id": "dee3978d-72f5-4316-a126-18bb8a501a22",
   "metadata": {},
   "outputs": [],
   "source": [
    "phy_feat = np.load('dataset/seed_iv/feat_phy.npy')\n",
    "phy_feat[:, :12] = (phy_feat[:, :12] - phy_feat[:, :12].min())/np.max(phy_feat[:, :12] - phy_feat[:, :12].min()) \n",
    "phy_feat[:, 12:16] = (phy_feat[:, 12:16] - phy_feat[:, 12:16].min())/np.max(phy_feat[:, 12:16] - phy_feat[:, 12:16].min()) \n",
    "phy_feat[:, 16:18] = (phy_feat[:, 16:18] - phy_feat[:, 16:18].min())/np.max(phy_feat[:, 16:18] - phy_feat[:, 16:18].min()) \n",
    "phy_feat[:, 18:22] = (phy_feat[:, 18:22] - phy_feat[:, 18:22].min())/np.max(phy_feat[:, 18:22] - phy_feat[:, 18:22].min())\n",
    "\n",
    "train_model(feat_eeg=np.load('dataset/seed_iv/feat_eeg.npy'), feat_phy=np.expand_dims(phy_feat,1)[:, :, :22], label=label, \n",
    "            participant=participant, path_results='res/dep/', training_info='seed_iv_bil_rnn', n_class=n_class, pos=elec_pos, fusion='bil')"
   ]
  },
  {
   "cell_type": "markdown",
   "id": "premium-airport",
   "metadata": {},
   "source": [
    "## DEAP"
   ]
  },
  {
   "cell_type": "code",
   "execution_count": null,
   "id": "cheap-dependence",
   "metadata": {},
   "outputs": [],
   "source": [
    "'''Load File'''\n",
    "label = np.load('dataset/deap/label.npy') - 4.5\n",
    "n_class = 2 #len(np.unique(label))\n",
    "participant = np.load('dataset/deap/participant.npy')"
   ]
  },
  {
   "cell_type": "markdown",
   "id": "addressed-pennsylvania",
   "metadata": {},
   "source": [
    "### Multiplication"
   ]
  },
  {
   "cell_type": "code",
   "execution_count": null,
   "id": "f182dc06-50b6-4bc1-9e72-a071841e775d",
   "metadata": {},
   "outputs": [],
   "source": [
    "train_model(feat_eeg=np.load('dataset/deap/feat_eeg.npy'), feat_phy=np.load('dataset/deap/feat_phy.npy'), label=(label[:, 0]>0).astype(int), \n",
    "            participant=participant, path_results='res/dep/', training_info='deap_mult_valence', n_class=n_class, pos=None, fusion='mult')\n",
    "\n",
    "train_model(feat_eeg=np.load('dataset/deap/feat_eeg.npy'), feat_phy=np.load('dataset/deap/feat_phy.npy'), label=(label[:, 1]>0).astype(int), \n",
    "            participant=participant, path_results='res/dep/', training_info='deap_mult_arousal', n_class=n_class, pos=None, fusion='mult')"
   ]
  },
  {
   "cell_type": "markdown",
   "id": "celtic-focus",
   "metadata": {},
   "source": [
    "### Concatenation"
   ]
  },
  {
   "cell_type": "code",
   "execution_count": null,
   "id": "local-liver",
   "metadata": {},
   "outputs": [],
   "source": [
    "train_model(feat_eeg=np.load('dataset/deap/feat_eeg.npy'), feat_phy=np.load('dataset/deap/feat_phy.npy'), label=(label[:, 0]>0).astype(int), \n",
    "            participant=participant, path_results='res/ind/', training_info='deap_cat_valence', n_class=n_class, pos=None, fusion='cat')\n",
    "\n",
    "train_model(feat_eeg=np.load('dataset/deap/feat_eeg.npy'), feat_phy=np.load('dataset/deap/feat_phy.npy'), label=(label[:, 1]>0).astype(int), \n",
    "            participant=participant, path_results='res/ind/', training_info='deap_cat_arousal', n_class=n_class, pos=None, fusion='cat')"
   ]
  },
  {
   "cell_type": "markdown",
   "id": "bored-corporation",
   "metadata": {},
   "source": [
    "### Compact Bilinear Pooling"
   ]
  },
  {
   "cell_type": "code",
   "execution_count": null,
   "id": "unlike-pierce",
   "metadata": {},
   "outputs": [],
   "source": [
    "train_model(feat_eeg=np.load('dataset/deap/feat_eeg.npy'), feat_phy=np.load('dataset/deap/feat_phy.npy'), label=(label[:, 0]>0).astype(int), \n",
    "            participant=participant, path_results='res/dep/', training_info='deap_bil_valence', n_class=n_class, pos=None, fusion='bil')\n",
    "\n",
    "train_model(feat_eeg=np.load('dataset/deap/feat_eeg.npy'), feat_phy=np.load('dataset/deap/feat_phy.npy'), label=(label[:, 1]>0).astype(int), \n",
    "            participant=participant, path_results='res/dep/', training_info='deap_bil_arousal', n_class=n_class, pos=None, fusion='bil')"
   ]
  },
  {
   "cell_type": "code",
   "execution_count": null,
   "id": "preceding-kuwait",
   "metadata": {},
   "outputs": [],
   "source": [
    "import IPython\n",
    "\n",
    "IPython.Application.instance().kernel.do_shutdown(True)"
   ]
  }
 ],
 "metadata": {
  "kernelspec": {
   "display_name": "Python 3 (ipykernel)",
   "language": "python",
   "name": "python3"
  },
  "language_info": {
   "codemirror_mode": {
    "name": "ipython",
    "version": 3
   },
   "file_extension": ".py",
   "mimetype": "text/x-python",
   "name": "python",
   "nbconvert_exporter": "python",
   "pygments_lexer": "ipython3",
   "version": "3.8.13"
  }
 },
 "nbformat": 4,
 "nbformat_minor": 5
}
