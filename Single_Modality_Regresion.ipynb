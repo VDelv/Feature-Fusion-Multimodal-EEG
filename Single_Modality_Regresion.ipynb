{
 "cells": [
  {
   "cell_type": "raw",
   "id": "dfd49e91-1243-43b0-b92a-ba21d6769c24",
   "metadata": {},
   "source": [
    "Created by Victor Delvigne\n",
    "ISIA Lab, Faculty of Engineering University of Mons, Mons (Belgium)\n",
    "victor.delvigne@umons.ac.be\n",
    "Copyright (C) 2021 - UMons\n",
    "This library is free software; you can redistribute it and/or\n",
    "modify it under the terms of the GNU Lesser General Public\n",
    "License as published by the Free Software Foundation; either\n",
    "version 2.1 of the License, or (at your option) any later version.\n",
    "This library is distributed in the hope that it will be useful,\n",
    "but WITHOUT ANY WARRANTY; without even the implied warranty of\n",
    "MERCHANTABILITY or FITNESS FOR A PARTICULAR PURPOSE.  See the GNU\n",
    "Lesser General Public License for more details.\n",
    "You should have received a copy of the GNU Lesser General Public\n",
    "License along with this library; if not, write to the Free Software\n",
    "Foundation, Inc., 51 Franklin Street, Fifth Floor, Boston, MA  02110-1301  USA"
   ]
  },
  {
   "cell_type": "markdown",
   "id": "tight-ocean",
   "metadata": {},
   "source": [
    "# Single Modality Regression"
   ]
  },
  {
   "cell_type": "code",
   "execution_count": null,
   "id": "filled-mountain",
   "metadata": {},
   "outputs": [],
   "source": [
    "from models import *\n",
    "from utils  import *"
   ]
  },
  {
   "cell_type": "code",
   "execution_count": null,
   "id": "armed-upgrade",
   "metadata": {},
   "outputs": [],
   "source": [
    "class MultiAttention(nn.Module):\n",
    "    def __init__(self, spatial_dep, emb_dim, feat_dim=5, eeg=False, pos=None, n_class=2):\n",
    "        super(MultiAttention, self ).__init__()\n",
    "        \n",
    "        if eeg:\n",
    "            self.spatial_attention = RegionRNN_VIG(emb_dim//2, 1, feat_dim, f_dim=feat_dim)\n",
    "        else: \n",
    "            self.spatial_attention = SimpleRNN(emb_dim, 1, feat_dim, f_dim=feat_dim)\n",
    "            \n",
    "        self.Classifier = nn.Sequential(\n",
    "            nn.Linear(emb_dim, 64),\n",
    "            nn.Dropout(0.25),\n",
    "            nn.ReLU(True),\n",
    "            nn.Linear(64, n_class),\n",
    "            nn.Softmax(dim=1)\n",
    "            )\n",
    "    \n",
    "        self.Regressor = nn.Sequential(\n",
    "            nn.Linear(emb_dim, 64),\n",
    "            nn.Dropout(0.25),\n",
    "            nn.ReLU(True),\n",
    "            nn.Linear(64, 1)\n",
    "            )\n",
    "        \n",
    "        self.Discriminator = nn.Sequential(\n",
    "            GradientReversal(),\n",
    "            nn.Linear(emb_dim, 64),\n",
    "            nn.Dropout(0.25),\n",
    "            nn.ReLU(True),\n",
    "            nn.Linear(64, 1),\n",
    "            nn.Sigmoid()\n",
    "            )\n",
    "        \n",
    "        \n",
    "    def forward(self, x):\n",
    "        b_size = x.shape[0]\n",
    "        \n",
    "        spatial_x = x.transpose(1,2)\n",
    "        feat = self.spatial_attention(spatial_x)\n",
    "        \n",
    "        return feat"
   ]
  },
  {
   "cell_type": "code",
   "execution_count": null,
   "id": "behind-sample",
   "metadata": {},
   "outputs": [],
   "source": [
    "'''Parameters'''\n",
    "batch_size = 64\n",
    "n_epoch = 500"
   ]
  },
  {
   "cell_type": "code",
   "execution_count": null,
   "id": "organized-diamond",
   "metadata": {},
   "outputs": [],
   "source": [
    "def train_model(feat, label, participant, path_results, training_info, n_class, is_eeg=False, pos=None):\n",
    "    EEG = EEGDataset(label=label, eeg=feat)\n",
    "    Tot = {}\n",
    "    for p in tqdm(np.unique(participant)):\n",
    "        \n",
    "        idx = np.argwhere(participant==p).squeeze()\n",
    "        np.random.shuffle(idx)\n",
    "        id_train = idx[:int(0.8*len(idx))]\n",
    "        id_test = idx[int(0.8*len(idx)):]\n",
    "        \n",
    "        Test = Subset(EEG, id_test)\n",
    "        #idx = np.argwhere(participant!=p).squeeze()\n",
    "        #np.random.shuffle(idx)\n",
    "        Train = Subset(EEG, id_train)\n",
    "        \n",
    "        Trainloader = DataLoader(Train, batch_size=batch_size, shuffle=False)\n",
    "        Testloader = DataLoader(Test, batch_size=batch_size, shuffle=False)\n",
    "        \n",
    "        n_chan = feat.shape[2]\n",
    "        f_dim = feat.shape[1]\n",
    "        \n",
    "        net = MultiAttention(spatial_dep=n_chan, emb_dim=64, feat_dim=f_dim, eeg=is_eeg, pos=pos, n_class=n_class).cuda()\n",
    "        optimizer = optim.SGD(net.parameters(), lr=0.001, momentum=0.9, weight_decay=0.0001)\n",
    "        \n",
    "        res = {}\n",
    "        pred = []\n",
    "        \n",
    "        for epoch in range(n_epoch):\n",
    "                        \n",
    "            running_loss = []\n",
    "            \n",
    "            t_cycle = iter(cycle(Testloader))\n",
    "            for i, data in enumerate(Trainloader, 0):\n",
    "                # get the inputs; data is a list of [inputs, labels]\n",
    "                inputs_source, labels = data\n",
    "                del data\n",
    "                \n",
    "                data = next(t_cycle)\n",
    "                inputs_test, _ = data\n",
    "                del data\n",
    "                \n",
    "                domain = torch.cat([torch.ones(inputs_source.shape[0]),\n",
    "                                   torch.zeros(inputs_test.shape[0])]).cuda()\n",
    "                inputs = torch.cat([inputs_source, inputs_test])\n",
    "                \n",
    "                # zero the parameter gradients\n",
    "                optimizer.zero_grad()\n",
    "                # forward + backward + optimize\n",
    "                feat_ = net(inputs.to(torch.float32).cuda())\n",
    "                \n",
    "                domain_pred = net.Discriminator(feat_).squeeze()\n",
    "                \n",
    "                loss = torch.nn.functional.binary_cross_entropy(domain_pred, domain)\n",
    "                \n",
    "                outputs = net.Regressor(feat_[:inputs_source.shape[0]])\n",
    "\n",
    "                label_loss = torch.nn.functional.mse_loss(outputs.squeeze(), labels.to(torch.float).cuda())\n",
    "                \n",
    "                loss += label_loss\n",
    "                loss.backward()\n",
    "                optimizer.step()\n",
    "                \n",
    "                running_loss.append(label_loss.item())\n",
    "            \n",
    "            #running_loss = np.mean(running_loss)\n",
    "            #running_rmse = rmse(np.asarray(y_label), np.asarray(y_pred))\n",
    "            #running_corr = corr(np.asarray(y_label), np.asarray(y_pred))\n",
    "            \n",
    "            if epoch%10==9:\n",
    "                y_pred = []\n",
    "                y_label = []\n",
    "                validation_loss = []\n",
    "                for i, data in enumerate(Testloader, 0):\n",
    "                    inputs, labels = data\n",
    "                    del data\n",
    "                    feat_ = net(inputs.to(torch.float32).cuda())\n",
    "                    outputs = net.Regressor(feat_)\n",
    "                    y_pred.extend(outputs.squeeze().detach().cpu().tolist())\n",
    "                    y_label.extend(labels.tolist())\n",
    "\n",
    "                    loss = torch.nn.functional.mse_loss(outputs.squeeze(), labels.to(torch.float).cuda())\n",
    "                    validation_loss.append(loss.item())\n",
    "                pred.append(y_pred)\n",
    "        res['pred'] = np.asarray(pred)\n",
    "        res['test'] = np.asarray(y_label)\n",
    "        Tot['participant_'+str(p)] = np.asarray(res)\n",
    "        np.save(os.path.join(path_results, training_info), Tot)"
   ]
  },
  {
   "cell_type": "markdown",
   "id": "communist-branch",
   "metadata": {},
   "source": [
    "## SEED VIG"
   ]
  },
  {
   "cell_type": "code",
   "execution_count": null,
   "id": "excessive-ordinance",
   "metadata": {},
   "outputs": [],
   "source": [
    "'''Load File'''\n",
    "label = np.load('dataset/seed_vig/label.npy')\n",
    "n_class = len(np.unique(label))\n",
    "participant = np.load('dataset/seed_vig/participant.npy')\n",
    "elec_pos = np.load('information/seed_vig_eeg.npy')"
   ]
  },
  {
   "cell_type": "markdown",
   "id": "working-classification",
   "metadata": {},
   "source": [
    "### EEG"
   ]
  },
  {
   "cell_type": "code",
   "execution_count": null,
   "id": "4a143162-3743-472f-810b-061334176acf",
   "metadata": {},
   "outputs": [],
   "source": [
    "train_model(feat=np.load('dataset/seed_vig/feat_eeg.npy'), label=label, participant=participant, \n",
    "            path_results='res/', training_info='eeg_seed_vig', n_class=n_class, is_eeg=True, pos=elec_pos)"
   ]
  },
  {
   "cell_type": "markdown",
   "id": "early-employment",
   "metadata": {},
   "source": [
    "### Physiological"
   ]
  },
  {
   "cell_type": "code",
   "execution_count": null,
   "id": "hungry-mission",
   "metadata": {},
   "outputs": [],
   "source": [
    "train_model(feat=np.expand_dims(np.load('dataset/seed_vig/feat_phy.npy'), 1), label=label, \n",
    "            participant=participant, path_results='res/', training_info='feat_seed_vig', n_class=n_class, is_eeg=False, pos=None)"
   ]
  },
  {
   "cell_type": "code",
   "execution_count": null,
   "id": "consolidated-antigua",
   "metadata": {},
   "outputs": [],
   "source": [
    "import IPython\n",
    "\n",
    "IPython.Application.instance().kernel.do_shutdown(True)"
   ]
  }
 ],
 "metadata": {
  "kernelspec": {
   "display_name": "Python 3 (ipykernel)",
   "language": "python",
   "name": "python3"
  },
  "language_info": {
   "codemirror_mode": {
    "name": "ipython",
    "version": 3
   },
   "file_extension": ".py",
   "mimetype": "text/x-python",
   "name": "python",
   "nbconvert_exporter": "python",
   "pygments_lexer": "ipython3",
   "version": "3.8.13"
  }
 },
 "nbformat": 4,
 "nbformat_minor": 5
}
