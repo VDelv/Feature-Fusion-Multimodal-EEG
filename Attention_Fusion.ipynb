{
 "cells": [
  {
   "cell_type": "raw",
   "id": "b6b43a3e-f935-4620-980b-adfdf0367f1e",
   "metadata": {},
   "source": [
    "Created by Victor Delvigne\n",
    "ISIA Lab, Faculty of Engineering University of Mons, Mons (Belgium)\n",
    "victor.delvigne@umons.ac.be\n",
    "Copyright (C) 2021 - UMons\n",
    "This library is free software; you can redistribute it and/or\n",
    "modify it under the terms of the GNU Lesser General Public\n",
    "License as published by the Free Software Foundation; either\n",
    "version 2.1 of the License, or (at your option) any later version.\n",
    "This library is distributed in the hope that it will be useful,\n",
    "but WITHOUT ANY WARRANTY; without even the implied warranty of\n",
    "MERCHANTABILITY or FITNESS FOR A PARTICULAR PURPOSE.  See the GNU\n",
    "Lesser General Public License for more details.\n",
    "You should have received a copy of the GNU Lesser General Public\n",
    "License along with this library; if not, write to the Free Software\n",
    "Foundation, Inc., 51 Franklin Street, Fifth Floor, Boston, MA  02110-1301  USA"
   ]
  },
  {
   "cell_type": "markdown",
   "id": "diagnostic-strengthening",
   "metadata": {},
   "source": [
    "# Attention Fusion"
   ]
  },
  {
   "cell_type": "code",
   "execution_count": 1,
   "id": "norman-dividend",
   "metadata": {},
   "outputs": [],
   "source": [
    "from models import *\n",
    "from utils import *"
   ]
  },
  {
   "cell_type": "code",
   "execution_count": 2,
   "id": "partial-publisher",
   "metadata": {},
   "outputs": [],
   "source": [
    "class AttentionFusion(nn.Module):\n",
    "    def __init__(self, in_ffn=64, out_ffn=64, drop_ffn=0.15, att_dim=64, drop_att=0.25, n_head=2):\n",
    "        super(AttentionFusion, self).__init__()\n",
    "\n",
    "        self.mhatt1 = MultiHeadAttention(hidden_size=att_dim, dropout=drop_att, n_head=n_head)\n",
    "        self.mhatt2 = MultiHeadAttention(hidden_size=att_dim, dropout=drop_att, n_head=n_head)\n",
    "        self.ffn = FC(in_size=in_ffn, out_size=out_ffn, dropout_r=drop_ffn)\n",
    "\n",
    "        self.dropout1 = nn.Dropout(0.25)\n",
    "        self.norm1 = LayerNorm(in_ffn)\n",
    "\n",
    "        self.dropout2 = nn.Dropout(0.25)\n",
    "        self.norm2 = LayerNorm(out_ffn)\n",
    "\n",
    "        self.dropout3 = nn.Dropout(0.25)\n",
    "        self.norm3 = LayerNorm(att_dim)\n",
    "\n",
    "    def forward(self, x, y,):\n",
    "        x = self.norm1(x + self.dropout1(\n",
    "            self.mhatt1(v=x, k=x, q=y)\n",
    "        ))\n",
    "\n",
    "        x = self.norm3(x + self.dropout3(\n",
    "            self.ffn(x)\n",
    "        ))\n",
    "\n",
    "        return x\n",
    "\n",
    "\n",
    "class FusionNet(nn.Module):\n",
    "    def __init__(self, eeg_dim, eeg_emb_dim,pos, phy_dim, phy_emb_dim, phy_feat_dim, eeg_feat_dim=5, n_class=2):\n",
    "        super(FusionNet, self ).__init__()\n",
    "\n",
    "        self.eeg_attention = RegionRNN_DEAP(eeg_emb_dim//2, 1, eeg_feat_dim, f_dim=eeg_feat_dim)\n",
    "        self.phy_attention = SimpleRNN_DEAP(phy_emb_dim, 1, phy_feat_dim, f_dim=phy_feat_dim)\n",
    "        \n",
    "        self.AttentionFusion = AttentionFusion(in_ffn=eeg_emb_dim, out_ffn=eeg_emb_dim, att_dim=phy_emb_dim)\n",
    "\n",
    "        self.Classifier = nn.Sequential(\n",
    "            nn.Linear(eeg_emb_dim, 64),\n",
    "            nn.Dropout(0.25),\n",
    "            nn.ReLU(True),\n",
    "            nn.Linear(64, n_class),\n",
    "            nn.Softmax(dim=1)\n",
    "            )\n",
    "         \n",
    "        self.Discriminator = nn.Sequential(\n",
    "            GradientReversal(),\n",
    "            nn.Linear(eeg_emb_dim, 64),\n",
    "            nn.Dropout(0.25),\n",
    "            nn.ReLU(True),\n",
    "            nn.Linear(64, 1),\n",
    "            nn.Sigmoid()\n",
    "        )\n",
    "        \n",
    "    def forward(self, x_eeg, x_phy):\n",
    "        b_size = x_eeg.shape[0]\n",
    "        \n",
    "        spatial_eeg = x_eeg.transpose(1,2)\n",
    "        feat_eeg = self.eeg_attention(spatial_eeg)\n",
    "        \n",
    "        spatial_phy = x_phy.transpose(1,2)\n",
    "        feat_phy = self.phy_attention(spatial_phy)\n",
    "        \n",
    "        feat = self.AttentionFusion(feat_eeg, feat_phy)\n",
    "                \n",
    "        return feat"
   ]
  },
  {
   "cell_type": "code",
   "execution_count": 3,
   "id": "strange-cement",
   "metadata": {},
   "outputs": [],
   "source": [
    "'''Parameters'''\n",
    "batch_size = 64\n",
    "n_epoch = 1000"
   ]
  },
  {
   "cell_type": "code",
   "execution_count": 4,
   "id": "british-indonesian",
   "metadata": {},
   "outputs": [],
   "source": [
    "def train_model(feat_eeg, feat_phy, label, participant, path_results, training_info, n_class, pos):\n",
    "    EEG = EEGPhiDataset(label=label, eeg=feat_eeg, phi=feat_phy)\n",
    "    Tot = {}\n",
    "    session = np.load('dataset/seed_iv/session.npy')\n",
    "    for p in tqdm(np.unique(participant)):\n",
    "        idx = np.argwhere(participant==p).squeeze()\n",
    "        np.random.shuffle(idx)\n",
    "        id_train = idx[:int(0.8*len(idx))]\n",
    "        id_test = idx[int(0.8*len(idx)):]\n",
    "        \n",
    "        np.random.shuffle(id_train)\n",
    "        np.random.shuffle(id_test)\n",
    "        \n",
    "        Test = Subset(EEG, id_test)\n",
    "        Train = Subset(EEG, id_train)\n",
    "        \n",
    "        Trainloader = DataLoader(Train, batch_size=batch_size, shuffle=False)\n",
    "        Testloader = DataLoader(Test, batch_size=batch_size, shuffle=False)\n",
    "        \n",
    "        n_chan = feat_eeg.shape[2]\n",
    "        f_dim_eeg = feat_eeg.shape[1]\n",
    "        \n",
    "        phy_dim = feat_phy.shape[2]\n",
    "        f_dim_phy = feat_phy.shape[1]\n",
    "        \n",
    "        net = FusionNet(eeg_dim=n_chan, eeg_emb_dim=64, eeg_feat_dim=f_dim_eeg, pos=pos, phy_dim=phy_dim, phy_emb_dim=64, phy_feat_dim=f_dim_phy, n_class=n_class).cuda()\n",
    "        \n",
    "        optimizer = optim.SGD(net.parameters(), lr=0.0005, momentum=0.9, weight_decay=0.005)\n",
    "        \n",
    "        res = []\n",
    "        for epoch in range(n_epoch):\n",
    "            \n",
    "            running_loss = 0.0\n",
    "            evaluation = []\n",
    "            t_cycle = iter(cycle(Testloader))\n",
    "            for i, data in enumerate(Trainloader, 0):\n",
    "                # get the inputs; data is a list of [inputs, labels]\n",
    "                inputs_eeg_source, inputs_phy_source, labels = data\n",
    "                del data\n",
    "                data = next(t_cycle)\n",
    "                inputs_eeg_test, inputs_phy_test, _ = data\n",
    "                del data\n",
    "                \n",
    "                domain = torch.cat([torch.ones(inputs_eeg_source.shape[0]),\n",
    "                                   torch.zeros(inputs_eeg_test.shape[0])]).cuda()\n",
    "                inputs_eeg = torch.cat([inputs_eeg_source, inputs_eeg_test])\n",
    "                inputs_phy = torch.cat([inputs_phy_source, inputs_phy_test])\n",
    "                \n",
    "                # zero the parameter gradients\n",
    "                optimizer.zero_grad()\n",
    "                # forward + backward + optimize\n",
    "                feat_ = net(inputs_eeg.to(torch.float32).cuda(), inputs_phy.to(torch.float32).cuda())\n",
    "                \n",
    "                domain_pred = net.Discriminator(feat_).squeeze()\n",
    "                \n",
    "                feat_ = net(inputs_eeg.to(torch.float32).cuda(), inputs_phy.to(torch.float32).cuda())\n",
    "                loss = torch.nn.functional.binary_cross_entropy(domain_pred, domain)\n",
    "                outputs = net.Classifier(feat_[:inputs_eeg_source.shape[0]])\n",
    "\n",
    "                label_loss = torch.nn.functional.cross_entropy(outputs, labels.to(torch.long).cuda())\n",
    "                loss = label_loss\n",
    "                loss.backward()\n",
    "                optimizer.step()\n",
    "\n",
    "                _, predicted = torch.max(outputs, 1)\n",
    "                num_of_true = torch.sum(predicted.detach().cpu()==labels).numpy()\n",
    "                mean = num_of_true/labels.shape[0]\n",
    "                running_loss = label_loss.item()\n",
    "                evaluation.append(mean)\n",
    "            running_loss = running_loss/(i+1)\n",
    "            running_acc = sum(evaluation)/len(evaluation)\n",
    "            \n",
    "            validation_loss = 0.0\n",
    "            validation_acc = 0.0\n",
    "            evaluation = []\n",
    "            for i, data in enumerate(Testloader, 0):\n",
    "                inputs_eeg, inputs_phy, labels = data\n",
    "                del data\n",
    "                feat_ = net(inputs_eeg.to(torch.float32).cuda(), inputs_phy.to(torch.float32).cuda())\n",
    "                outputs = net.Classifier(feat_)\n",
    "                loss = torch.nn.functional.cross_entropy(outputs, labels.cuda())\n",
    "                validation_loss += loss.item()\n",
    "                \n",
    "                _, predicted = torch.max(outputs, 1)\n",
    "                num_of_true = torch.sum(predicted.detach().cpu()==labels).numpy()\n",
    "                evaluation.append(num_of_true/labels.shape[0])\n",
    "            validation_loss = validation_loss/(i+1)\n",
    "            validation_acc = sum(evaluation)/len(evaluation)\n",
    "            \n",
    "            res.append((running_loss, running_acc, validation_loss, validation_acc))\n",
    "        Tot['participant_'+str(p)] = np.asarray(res)\n",
    "        np.save(os.path.join(path_results, training_info), Tot)"
   ]
  },
  {
   "cell_type": "markdown",
   "id": "collectible-explanation",
   "metadata": {},
   "source": [
    "## PhyDAA Dataset"
   ]
  },
  {
   "cell_type": "code",
   "execution_count": null,
   "id": "a8d96a2d-f8d2-486f-b6ad-75b300294a7b",
   "metadata": {},
   "outputs": [],
   "source": [
    "'''Load File'''\n",
    "label = np.load('dataset/phydaa/label.npy').astype(int)\n",
    "n_class = len(np.unique(label))\n",
    "participant = np.load('dataset/phydaa/participant.npy')\n",
    "elec_pos = np.load('information/phydaa_eeg.npy')"
   ]
  },
  {
   "cell_type": "code",
   "execution_count": null,
   "id": "94cdae62-c649-47f6-ae50-41d391169119",
   "metadata": {},
   "outputs": [],
   "source": [
    "train_model(feat_eeg=np.load('dataset/phydaa/feat_eeg.npy'), feat_phy=np.expand_dims(np.load('dataset/phydaa/feat_phy.npy'),1), label=label, \n",
    "            participant=participant, path_results='res/ind/', training_info='phydaa_attention', n_class=n_class, pos=elec_pos)"
   ]
  },
  {
   "cell_type": "raw",
   "id": "blocked-crazy",
   "metadata": {},
   "source": [
    "assert(False)"
   ]
  },
  {
   "cell_type": "markdown",
   "id": "ideal-indonesia",
   "metadata": {},
   "source": [
    "## SEED IV"
   ]
  },
  {
   "cell_type": "code",
   "execution_count": null,
   "id": "5b33f3e3-7411-4350-8bcb-716994491e6d",
   "metadata": {},
   "outputs": [],
   "source": [
    "'''Load File'''\n",
    "label = np.load('dataset/seed_iv//label.npy').astype(int)\n",
    "n_class = len(np.unique(label))\n",
    "participant = np.load('dataset/seed_iv/participant.npy')\n",
    "elec_pos = np.load('information/seed_iv_eeg.npy')"
   ]
  },
  {
   "cell_type": "code",
   "execution_count": null,
   "id": "aaaf462f-d488-4736-8d34-0904e0e39215",
   "metadata": {},
   "outputs": [],
   "source": [
    "phy_feat = np.load('dataset/seed_iv/feat_phy.npy')\n",
    "phy_feat[:, :12] = (phy_feat[:, :12] - phy_feat[:, :12].min())/np.max(phy_feat[:, :12] - phy_feat[:, :12].min()) \n",
    "phy_feat[:, 12:16] = (phy_feat[:, 12:16] - phy_feat[:, 12:16].min())/np.max(phy_feat[:, 12:16] - phy_feat[:, 12:16].min()) \n",
    "phy_feat[:, 16:18] = (phy_feat[:, 16:18] - phy_feat[:, 16:18].min())/np.max(phy_feat[:, 16:18] - phy_feat[:, 16:18].min()) \n",
    "phy_feat[:, 18:22] = (phy_feat[:, 18:22] - phy_feat[:, 18:22].min())/np.max(phy_feat[:, 18:22] - phy_feat[:, 18:22].min())\n",
    "\n",
    "train_model(feat_eeg=np.load('dataset/seed_iv/feat_eeg.npy'), feat_phy=np.expand_dims(phy_feat,1)[:, :, :22], label=label, \n",
    "            participant=participant, path_results='res/dep/', training_info='seed_iv_attention_rnn', n_class=n_class, pos=elec_pos)"
   ]
  },
  {
   "cell_type": "markdown",
   "id": "continental-personal",
   "metadata": {},
   "source": [
    "## DEAP"
   ]
  },
  {
   "cell_type": "code",
   "execution_count": 5,
   "id": "applied-intake",
   "metadata": {},
   "outputs": [],
   "source": [
    "'''Load File'''\n",
    "label = np.load('dataset/deap/label.npy') - 4.5\n",
    "label = (label[:, 0]>0).astype(int) + 2*(label[:, 1]>0).astype(int)\n",
    "n_class = len(np.unique(label))\n",
    "participant = np.load('dataset/deap/participant.npy')"
   ]
  },
  {
   "cell_type": "code",
   "execution_count": 6,
   "id": "acute-hanging",
   "metadata": {},
   "outputs": [
    {
     "name": "stderr",
     "output_type": "stream",
     "text": [
      "100%|██████████| 32/32 [2:51:23<00:00, 321.37s/it]  \n"
     ]
    }
   ],
   "source": [
    "train_model(feat_eeg=np.load('dataset/deap/feat_eeg.npy'), feat_phy=np.load('dataset/deap/feat_phy.npy'), label=label, \n",
    "            participant=participant, path_results='res/dep/', training_info='deap_attention_rnn', n_class=n_class, pos=None)"
   ]
  },
  {
   "cell_type": "code",
   "execution_count": 7,
   "id": "after-mixture",
   "metadata": {},
   "outputs": [
    {
     "data": {
      "text/plain": [
       "{'status': 'ok', 'restart': True}"
      ]
     },
     "execution_count": 7,
     "metadata": {},
     "output_type": "execute_result"
    }
   ],
   "source": [
    "import IPython\n",
    "\n",
    "IPython.Application.instance().kernel.do_shutdown(True)"
   ]
  }
 ],
 "metadata": {
  "kernelspec": {
   "display_name": "Python 3 (ipykernel)",
   "language": "python",
   "name": "python3"
  },
  "language_info": {
   "codemirror_mode": {
    "name": "ipython",
    "version": 3
   },
   "file_extension": ".py",
   "mimetype": "text/x-python",
   "name": "python",
   "nbconvert_exporter": "python",
   "pygments_lexer": "ipython3",
   "version": "3.8.13"
  }
 },
 "nbformat": 4,
 "nbformat_minor": 5
}
